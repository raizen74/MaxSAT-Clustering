{
  "nbformat": 4,
  "nbformat_minor": 0,
  "metadata": {
    "colab": {
      "provenance": []
    },
    "kernelspec": {
      "name": "python3",
      "display_name": "Python 3"
    },
    "language_info": {
      "name": "python"
    }
  },
  "cells": [
    {
      "cell_type": "markdown",
      "source": [
        "En aquesta implementació farem servir l'encoding 2 del paper *Optimal Correlation Clustering via MaxSAT*"
      ],
      "metadata": {
        "id": "25dPCucy4cI_"
      }
    },
    {
      "cell_type": "markdown",
      "source": [
        "Primer generem una matriu simètrica binària aleatòria de 10x10"
      ],
      "metadata": {
        "id": "Krp0ZlSF02VJ"
      }
    },
    {
      "cell_type": "code",
      "source": [
        "import numpy as np\n",
        "\n",
        "def generate_symmetric_binary_matrix(n):\n",
        "    # Generate a random binary matrix of size (n x n)\n",
        "    matrix = np.random.randint(2, size=(n, n))\n",
        "    \n",
        "    # Make the matrix symmetric\n",
        "    matrix = np.triu(matrix) + np.triu(matrix, k=1).T\n",
        "    \n",
        "    return matrix\n",
        "\n",
        "# Example usage\n",
        "n = 10  # Size of the matrix\n",
        "matrix = generate_symmetric_binary_matrix(n)\n",
        "print(matrix)"
      ],
      "metadata": {
        "colab": {
          "base_uri": "https://localhost:8080/"
        },
        "id": "ymMe3YfQrrig",
        "outputId": "10ed3048-a175-4689-e4da-ef56595b901f"
      },
      "execution_count": null,
      "outputs": [
        {
          "output_type": "stream",
          "name": "stdout",
          "text": [
            "[[0 1 0 0 0 1 1 0 0 0]\n",
            " [1 0 0 1 0 1 0 1 0 1]\n",
            " [0 0 1 1 0 1 0 0 1 1]\n",
            " [0 1 1 1 0 1 1 1 0 0]\n",
            " [0 0 0 0 0 0 1 1 0 1]\n",
            " [1 1 1 1 0 1 1 1 1 1]\n",
            " [1 0 0 1 1 1 0 0 1 0]\n",
            " [0 1 0 1 1 1 0 1 0 1]\n",
            " [0 0 1 0 0 1 1 0 1 0]\n",
            " [0 1 1 0 1 1 0 1 0 1]]\n"
          ]
        }
      ]
    },
    {
      "cell_type": "markdown",
      "source": [
        "#ENCODING"
      ],
      "metadata": {
        "id": "2GTiGujoBmuY"
      }
    },
    {
      "cell_type": "markdown",
      "source": [
        "Definim les variables Yik i les variables auxiliars Aijk i Dij. Fem servir un Upperbound de K=2 clústers, el que es tradueix en N·K = 20 literals."
      ],
      "metadata": {
        "id": "gjE5QCwN2Yzq"
      }
    },
    {
      "cell_type": "code",
      "source": [
        "#y variables, N=10, K=2, N*K=20 variables yik\n",
        "y11=1\n",
        "y12=2\n",
        "y21=3\n",
        "y22=4\n",
        "y31=5\n",
        "y32=6\n",
        "y41=7\n",
        "y42=8\n",
        "y51=9\n",
        "y52=10\n",
        "y61=11\n",
        "y62=12\n",
        "y71=13\n",
        "y72=14\n",
        "y81=15\n",
        "y82=16\n",
        "y91=17\n",
        "y92=18\n",
        "y101=19\n",
        "y102=20"
      ],
      "metadata": {
        "id": "HNTqiAQN68j7"
      },
      "execution_count": 6,
      "outputs": []
    },
    {
      "cell_type": "code",
      "source": [
        "#Aijk variables auxiliars, (N * (N - 1) / 2)*K=90 Aijk var\n",
        "a121=100\n",
        "a122=101\n",
        "a131=102\n",
        "a132=103\n",
        "a141=104\n",
        "a142=105\n",
        "a151=106\n",
        "a152=107\n",
        "a161=108\n",
        "a162=109\n",
        "a171=110\n",
        "a172=111\n",
        "a181=112\n",
        "a182=113\n",
        "a191=114\n",
        "a192=115\n",
        "a1101=116\n",
        "a1102=117\n",
        "a231=118\n",
        "a232=119\n",
        "a241=120\n",
        "a242=121\n",
        "a251=122\n",
        "a252=123\n",
        "a261=124\n",
        "a262=125\n",
        "a271=126\n",
        "a272=127\n",
        "a281=128\n",
        "a282=129\n",
        "a291=130\n",
        "a292=131\n",
        "a2101=132\n",
        "a2102=133\n",
        "a341=134\n",
        "a342=135\n",
        "a351=136\n",
        "a352=137\n",
        "a361=138\n",
        "a362=139\n",
        "a371=140\n",
        "a372=141\n",
        "a381=142\n",
        "a382=143\n",
        "a391=144\n",
        "a392=145\n",
        "a3101=146\n",
        "a3102=147\n",
        "a451=148\n",
        "a452=149\n",
        "a461=150\n",
        "a462=151\n",
        "a471=152\n",
        "a472=153\n",
        "a481=154\n",
        "a482=155\n",
        "a491=156\n",
        "a492=157\n",
        "a4101=158\n",
        "a4102=159\n",
        "a561=160\n",
        "a562=161\n",
        "a571=162\n",
        "a572=163\n",
        "a581=164\n",
        "a582=165\n",
        "a591=166\n",
        "a592=167\n",
        "a5101=168\n",
        "a5102=169\n",
        "a671=170\n",
        "a672=171\n",
        "a681=172\n",
        "a682=173\n",
        "a691=174\n",
        "a692=175\n",
        "a6101=176\n",
        "a6102=177\n",
        "a781=178\n",
        "a782=179\n",
        "a791=180\n",
        "a792=181\n",
        "a7101=182\n",
        "a7102=183\n",
        "a891=184\n",
        "a892=185\n",
        "a8101=186\n",
        "a8102=187\n",
        "a9101=188\n",
        "a9102=189"
      ],
      "metadata": {
        "id": "fu3fxvQD8qSo"
      },
      "execution_count": 7,
      "outputs": []
    },
    {
      "cell_type": "code",
      "source": [
        "#dij variables auxiliars: (N * (N - 1) / 2) = 45 dij var\n",
        "d12=200\n",
        "d13=201\n",
        "d14=202\n",
        "d15=203\n",
        "d16=204\n",
        "d17=205\n",
        "d18=206\n",
        "d19=207\n",
        "d110=208\n",
        "d23=209\n",
        "d24=210\n",
        "d25=211\n",
        "d26=212\n",
        "d27=213\n",
        "d28=214\n",
        "d29=215\n",
        "d210=216\n",
        "d34=217\n",
        "d35=218\n",
        "d36=219\n",
        "d37=220\n",
        "d38=221\n",
        "d39=222\n",
        "d310=223\n",
        "d45=224\n",
        "d46=225\n",
        "d47=226\n",
        "d48=227\n",
        "d49=228\n",
        "d410=229\n",
        "d56=230\n",
        "d57=231\n",
        "d58=232\n",
        "d59=233\n",
        "d510=234\n",
        "d67=235\n",
        "d68=236\n",
        "d69=237\n",
        "d610=238\n",
        "d78=239\n",
        "d79=240\n",
        "d710=241\n",
        "d89=242\n",
        "d810=243\n",
        "d910=244"
      ],
      "metadata": {
        "id": "5CQYcD6WC1nH"
      },
      "execution_count": 8,
      "outputs": []
    },
    {
      "cell_type": "markdown",
      "source": [
        "Creem les clàusules de l'encoding ExactlyOne, forçant el primer punt al cluster 1."
      ],
      "metadata": {
        "id": "Im_5dQrZ42GZ"
      }
    },
    {
      "cell_type": "code",
      "source": [
        "#encoding exactly one\n",
        "#exactly_one1=[y11],[-y12]#punt 1 forçat al cluster 1\n",
        "#exactly_one2=[-y21,-y22],[y21,y22]\n",
        "#exactly_one3=[-y31,-y32],[y31,y32]\n",
        "#exactly_one4=[-y41,-y42],[y41,y42]\n",
        "#exactly_one5=[-y51,-y52],[y51,y52]\n",
        "#exactly_one6=[-y61,-y62],[y61,y62]\n",
        "#exactly_one7=[-y71,-y72],[y71,y72]\n",
        "#exactly_one8=[-y81,-y82],[y81,y82]\n",
        "#exactly_one9=[-y91,-y92],[y91,y92]\n",
        "#exactly_one10=[-y101,-y102],[y101,y102]\n",
        "exactly_one=[[y11],[-y12],[-y21,-y22],[y21,y22],[-y31,-y32],[y31,y32],[-y41,-y42],[y41,y42],[-y51,-y52],[y51,y52],[-y61,-y62],[y61,y62],[-y71,-y72],[y71,y72],[-y81,-y82],[y81,y82],[-y91,-y92],[y91,y92],[-y101,-y102],[y101,y102]]\n",
        "print(len(exactly_one))"
      ],
      "metadata": {
        "colab": {
          "base_uri": "https://localhost:8080/"
        },
        "id": "LzSPYpBoEXGG",
        "outputId": "beaeced0-e801-48f0-d997-024b48102b3f"
      },
      "execution_count": 9,
      "outputs": [
        {
          "output_type": "stream",
          "name": "stdout",
          "text": [
            "20\n"
          ]
        }
      ]
    },
    {
      "cell_type": "markdown",
      "source": [
        "Creem ara l'encoding HARD SIMILAR, donat que tenim 23 parelles de punts similars, això es tradueix a 23·K·3 = 138 clàusules."
      ],
      "metadata": {
        "id": "o1AA37Dr5Mef"
      }
    },
    {
      "cell_type": "code",
      "source": [
        "#encoding hard similar points. 23 similar points * K = 46 series of 3 clauses\n",
        "#([1,2],[1,6],[1,7])\n",
        "#([2,4],[2,6],[2,8],[2,10])\n",
        "#([3,4],[3,6],[3,9],[3,10])\n",
        "#([4,6],[4,7],[4,8])\n",
        "#([5,7],[5,8],[5,10])\n",
        "#([6,7],[6,8],[6,9],[6,10])\n",
        "#[7,9]\n",
        "#[8,10]\n",
        "#(¬Aijk ∨ yik) ∧ (¬Aijk ∨ yjk) ∧ (Aijk ∨ ¬yik ∨ ¬yjk):\n",
        "hs121=[[-a121,y11],[-a121,y21],[a121,-y11,-y21]]\n",
        "hs122=[[-a122,y12],[-a122,y22],[a122,-y12,-y22]]\n",
        "hs161=[[-a161,y11],[-a161,y61],[a161,-y11,-y61]]\n",
        "hs162=[[-a162,y12],[-a162,y62],[a162,-y12,-y62]]\n",
        "hs171=[[-a171,y11],[-a171,y71],[a171,-y11,-y71]]\n",
        "hs172=[[-a172,y12],[-a172,y72],[a172,-y12,-y72]]\n",
        "hs241=[[-a241,y21],[-a241,y41],[a241,-y21,-y41]]\n",
        "hs242=[[-a242,y22],[-a242,y42],[a242,-y22,-y42]]\n",
        "hs261=[[-a261,y21],[-a261,y61],[a261,-y21,-y61]]\n",
        "hs262=[[-a262,y22],[-a262,y62],[a262,-y22,-y62]]\n",
        "hs281=[[-a281,y21],[-a281,y81],[a281,-y21,-y81]]\n",
        "hs282=[[-a282,y22],[-a282,y82],[a282,-y22,-y82]]\n",
        "hs2101=[[-a2101,y21],[-a2101,y101],[a2101,-y21,-y101]]\n",
        "hs2102=[[-a2102,y22],[-a2102,y102],[a2102,-y22,-y102]]\n",
        "hs341=[[-a341,y31],[-a341,y41],[a341,-y31,-y41]]\n",
        "hs342=[[-a342,y32],[-a342,y42],[a342,-y32,-y42]]\n",
        "hs361=[[-a361,y31],[-a361,y61],[a361,-y31,-y61]]\n",
        "hs362=[[-a362,y32],[-a362,y62],[a362,-y32,-y62]]\n",
        "hs391=[[-a391,y31],[-a391,y91],[a391,-y31,-y91]]\n",
        "hs392=[[-a392,y32],[-a392,y92],[a392,-y32,-y92]]\n",
        "hs3101=[[-a3101,y31],[-a3101,y101],[a3101,-y31,-y101]]\n",
        "hs3102=[[-a3102,y32],[-a3102,y102],[a3102,-y32,-y102]]\n",
        "hs461=[[-a461,y41],[-a461,y61],[a461,-y41,-y61]]\n",
        "hs462=[[-a462,y42],[-a462,y62],[a462,-y42,-y62]]\n",
        "hs471=[[-a471,y41],[-a471,y71],[a471,-y41,-y71]]\n",
        "hs472=[[-a472,y42],[-a472,y72],[a472,-y42,-y72]]\n",
        "hs481=[[-a481,y41],[-a481,y81],[a481,-y41,-y81]]\n",
        "hs482=[[-a482,y42],[-a482,y82],[a482,-y42,-y82]]\n",
        "hs571=[[-a571,y51],[-a571,y71],[a571,-y51,-y71]]\n",
        "hs572=[[-a572,y52],[-a572,y72],[a572,-y52,-y72]]\n",
        "hs581=[[-a581,y51],[-a581,y81],[a581,-y51,-y81]]\n",
        "hs582=[[-a582,y52],[-a582,y82],[a582,-y52,-y82]]\n",
        "hs5101=[[-a5101,y51],[-a5101,y101],[a5101,-y51,-y101]]\n",
        "hs5102=[[-a5102,y52],[-a5102,y102],[a5102,-y52,-y102]]\n",
        "hs671=[[-a671,y61],[-a671,y71],[a671,-y61,-y71]]\n",
        "hs672=[[-a672,y62],[-a672,y72],[a672,-y62,-y72]]\n",
        "hs681=[[-a681,y61],[-a681,y81],[a681,-y61,-y81]]\n",
        "hs682=[[-a682,y62],[-a682,y82],[a682,-y62,-y82]]\n",
        "hs691=[[-a691,y61],[-a691,y91],[a691,-y61,-y91]]\n",
        "hs692=[[-a692,y62],[-a692,y92],[a692,-y62,-y92]]\n",
        "hs6101=[[-a6101,y61],[-a6101,y101],[a6101,-y61,-y101]]\n",
        "hs6102=[[-a6102,y62],[-a6102,y102],[a6102,-y62,-y102]]\n",
        "hs791=[[-a791,y71],[-a791,y91],[a791,-y71,-y91]]\n",
        "hs792=[[-a792,y72],[-a792,y92],[a792,-y72,-y92]]\n",
        "hs8101=[[-a8101,y81],[-a8101,y101],[a8101,-y81,-y101]]\n",
        "hs8102=[[-a8102,y82],[-a8102,y102],[a8102,-y82,-y102]]\n",
        "hs_l=[hs121,hs122,hs161,hs162,hs171,hs172,hs241,hs242,hs261,hs262,hs281,hs282,hs2101,hs2102,hs341,hs342,hs361,hs362,hs391,hs392,hs3101,hs3102,\n",
        "      hs461,hs462,hs471,hs472,hs481,hs482,hs571,hs572,hs581,hs582,hs5101,hs5102,hs671,hs672,hs681,hs682,hs691,hs692,hs6101,hs6102,hs791,hs792,\n",
        "      hs8101,hs8102]"
      ],
      "metadata": {
        "id": "Xnck-4TFGWaM"
      },
      "execution_count": 10,
      "outputs": []
    },
    {
      "cell_type": "code",
      "source": [
        "hs=[]\n",
        "for i in hs_l:\n",
        "  hs.extend(i) #adding all HARD SIMILAR CLAUSES to a list hs\n",
        "print(len(hs))#46*3=138 clauses"
      ],
      "metadata": {
        "colab": {
          "base_uri": "https://localhost:8080/"
        },
        "id": "0r0sDw0rQrfs",
        "outputId": "e6910c2c-78af-447e-9ba8-d4d97843a309"
      },
      "execution_count": 11,
      "outputs": [
        {
          "output_type": "stream",
          "name": "stdout",
          "text": [
            "138\n"
          ]
        }
      ]
    },
    {
      "cell_type": "markdown",
      "source": [
        "Creem ara l'encoding SOFT SIMILAR, donat que tenim 23 parelles de punts similars i K=2, això es tradueix a 23 clàusules de 2 literals."
      ],
      "metadata": {
        "id": "LKUJ9pew5-Xc"
      }
    },
    {
      "cell_type": "code",
      "source": [
        "#encoding soft similar points. 23 similar points = 23 clauses\n",
        "#([1,2],[1,6],[1,7])\n",
        "#([2,4],[2,6],[2,8],[2,10])\n",
        "#([3,4],[3,6],[3,9],[3,10])\n",
        "#([4,6],[4,7],[4,8])\n",
        "#([5,7],[5,8],[5,10])\n",
        "#([6,7],[6,8],[6,9],[6,10])\n",
        "#[7,9]\n",
        "#[8,10]\n",
        "#(Aij1 ∨ ... ∨ AijK):\n",
        "ss12=[a121,a122]\n",
        "ss16=[a161,a162]\n",
        "ss17=[a171,a172]\n",
        "ss24=[a241,a242]\n",
        "ss26=[a261,a262]\n",
        "ss28=[a281,a282]\n",
        "ss210=[a2101,a2102]\n",
        "ss34=[a341,a342]\n",
        "ss36=[a361,a362]\n",
        "ss39=[a391,a392]\n",
        "ss310=[a3101,a3102]\n",
        "ss46=[a461,a462]\n",
        "ss47=[a471,a472]\n",
        "ss48=[a481,a482]\n",
        "ss57=[a571,a572]\n",
        "ss58=[a581,a582]\n",
        "ss510=[a5101,a5102]\n",
        "ss67=[a671,a672]\n",
        "ss68=[a681,a682]\n",
        "ss69=[a691,a692]\n",
        "ss610=[a6101,a6102]\n",
        "ss79=[a791,a792]\n",
        "ss810=[a8101,a8102]\n",
        "ss=[ss12,ss16,ss17,ss24,ss26,ss28,ss210,ss34,ss36,ss39,ss310,ss46,ss47,ss48,ss57,ss58,ss510,\n",
        "      ss67,ss68,ss69,ss610,ss79,ss810] #adding all SOFT SIMILAR CLAUSES to a list ss\n",
        "print(len(ss))#23 clauses of 2 literals"
      ],
      "metadata": {
        "colab": {
          "base_uri": "https://localhost:8080/"
        },
        "id": "lDS33IwqUvJl",
        "outputId": "634a9b51-4366-4ee9-f6c3-abfeffd123e9"
      },
      "execution_count": 97,
      "outputs": [
        {
          "output_type": "stream",
          "name": "stdout",
          "text": [
            "23\n"
          ]
        }
      ]
    },
    {
      "cell_type": "markdown",
      "source": [
        "Creem ara l'encoding HARD DISSIMILAR, donat que tenim 22 parelles de punts dissimilars i K=2, això es tradueix a 22·K = 44 clàusules de 3 literals."
      ],
      "metadata": {
        "id": "d-L3lTgT6Smk"
      }
    },
    {
      "cell_type": "code",
      "source": [
        "#encoding hard dissimilar points. 22 similar points * K = 44 clauses\n",
        "#([1,3],[1,4],[1,5],[1,8],[1,9],[1,10])\n",
        "#([2,3],[2,5],[2,7],[2,9])\n",
        "#([3,5],[3,7],[3,8])\n",
        "#([4,5],[4,9],[4,10])\n",
        "#([5,6],[5,9])\n",
        "#([7,8],[7,10])\n",
        "#[8,9]\n",
        "#[9,10]\n",
        "#(dij ∨ ¬yik ∨ ¬yjk):\n",
        "hd131=[d13,-y11,-y31]\n",
        "hd132=[d13,-y12,-y32]\n",
        "hd141=[d14,-y11,-y41]\n",
        "hd142=[d14,-y12,-y42]\n",
        "hd151=[d15,-y11,-y51]\n",
        "hd152=[d15,-y12,-y52]\n",
        "hd181=[d18,-y11,-y81]\n",
        "hd182=[d18,-y12,-y82]\n",
        "hd191=[d19,-y11,-y91]\n",
        "hd192=[d19,-y12,-y92]\n",
        "hd1101=[d110,-y11,-y101]\n",
        "hd1102=[d110,-y12,-y102]\n",
        "hd231=[d23,-y21,-y31]\n",
        "hd232=[d23,-y22,-y32]\n",
        "hd251=[d25,-y21,-y51]\n",
        "hd252=[d25,-y22,-y52]\n",
        "hd271=[d27,-y21,-y71]\n",
        "hd272=[d27,-y22,-y72]\n",
        "hd291=[d29,-y21,-y91]\n",
        "hd292=[d29,-y22,-y92]\n",
        "hd351=[d35,-y31,-y51]\n",
        "hd352=[d35,-y32,-y52]\n",
        "hd371=[d37,-y31,-y71]\n",
        "hd372=[d37,-y32,-y72]\n",
        "hd381=[d38,-y31,-y81]\n",
        "hd382=[d38,-y32,-y82]\n",
        "hd451=[d45,-y41,-y51]\n",
        "hd452=[d45,-y42,-y52]\n",
        "hd491=[d49,-y41,-y91]\n",
        "hd492=[d49,-y42,-y92]\n",
        "hd4101=[d410,-y41,-y101]\n",
        "hd4102=[d410,-y42,-y102]\n",
        "hd561=[d56,-y51,-y61]\n",
        "hd562=[d56,-y52,-y62]\n",
        "hd591=[d59,-y51,-y91]\n",
        "hd592=[d59,-y52,-y92]\n",
        "hd781=[d78,-y71,-y81]\n",
        "hd782=[d78,-y72,-y82]\n",
        "hd7101=[d710,-y71,-y101]\n",
        "hd7102=[d710,-y72,-y102]\n",
        "hd891=[d89,-y81,-y91]\n",
        "hd892=[d89,-y82,-y92]\n",
        "hd9101=[d910,-y91,-y101]\n",
        "hd9102=[d910,-y92,-y102]\n",
        "hd=[hd131,hd132,hd141,hd142,hd151,hd152,hd181,hd182,hd191,hd192,hd1101,hd1102,hd231,hd232,hd251,hd252,hd271,\n",
        "      hd272,hd291,hd292,hd351,hd352,hd371,hd372,hd381,hd382,hd451,hd452,hd491,hd492,hd4101,hd4102,hd561,\n",
        "    hd562,hd591,hd592,hd781,hd782,hd7101,hd7102,hd891,hd892,hd9101,hd9102] #adding all HARD DISSIMILAR CLAUSES to a list hd\n",
        "print(len(hd))#44 clauses of 3 literals"
      ],
      "metadata": {
        "colab": {
          "base_uri": "https://localhost:8080/"
        },
        "id": "r0Rt_4CRd7_8",
        "outputId": "c9643ced-fa54-439f-a9f3-5bfb58782fe7"
      },
      "execution_count": 13,
      "outputs": [
        {
          "output_type": "stream",
          "name": "stdout",
          "text": [
            "44\n"
          ]
        }
      ]
    },
    {
      "cell_type": "markdown",
      "source": [
        "Creem ara l'encoding SOFT DISSIMILAR, donat que tenim 22 parelles de punts dissimilars, això es tradueix en 22 clàusules d'1 literal."
      ],
      "metadata": {
        "id": "zi-RmeWi6jmj"
      }
    },
    {
      "cell_type": "code",
      "source": [
        "#encoding soft dissimilar points. 22 similar points = 22 clauses\n",
        "#([1,3],[1,4],[1,5],[1,8],[1,9],[1,10])\n",
        "#([2,3],[2,5],[2,7],[2,9])\n",
        "#([3,5],[3,7],[3,8])\n",
        "#([4,5],[4,9],[4,10])\n",
        "#([5,6],[5,9])\n",
        "#([7,8],[7,10])\n",
        "#[8,9]\n",
        "#[9,10]\n",
        "#(¬dij):\n",
        "sd13=[-d13]\n",
        "sd14=[-d14]\n",
        "sd15=[-d15]\n",
        "sd18=[-d18]\n",
        "sd19=[-d19]\n",
        "sd110=[-d110]\n",
        "sd23=[-d23]\n",
        "sd25=[-d25]\n",
        "sd27=[-d27]\n",
        "sd29=[-d29]\n",
        "sd35=[-d35]\n",
        "sd37=[-d37]\n",
        "sd38=[-d38]\n",
        "sd45=[-d45]\n",
        "sd49=[-d49]\n",
        "sd410=[-d410]\n",
        "sd56=[-d56]\n",
        "sd59=[-d59]\n",
        "sd78=[-d78]\n",
        "sd710=[-d710]\n",
        "sd89=[-d89]\n",
        "sd910=[-d910]\n",
        "sd=[sd13,sd14,sd15,sd18,sd19,sd110,sd23,sd25,sd27,sd29,sd35,sd37,sd38,sd45,sd49,sd410,sd56,sd59,sd78,sd710,sd89,sd910]\n",
        "print(len(sd))#22 clauses of 1 literals"
      ],
      "metadata": {
        "colab": {
          "base_uri": "https://localhost:8080/"
        },
        "id": "Jl2SzV-XwoOU",
        "outputId": "f62c529b-b394-497b-85c2-b81c401e0e83"
      },
      "execution_count": 14,
      "outputs": [
        {
          "output_type": "stream",
          "name": "stdout",
          "text": [
            "22\n"
          ]
        }
      ]
    },
    {
      "cell_type": "markdown",
      "source": [
        "Importem llibreries:"
      ],
      "metadata": {
        "id": "d4TzQc1J65S4"
      }
    },
    {
      "cell_type": "code",
      "source": [
        "!pip install python-sat[aiger,approxmc,pblib]"
      ],
      "metadata": {
        "id": "2uqj_t4-eax_"
      },
      "execution_count": null,
      "outputs": []
    },
    {
      "cell_type": "code",
      "source": [
        "from pysat.formula import WCNF\n",
        "from pysat.examples.rc2 import RC2"
      ],
      "metadata": {
        "id": "oCu3djk6eVAW"
      },
      "execution_count": 20,
      "outputs": []
    },
    {
      "cell_type": "markdown",
      "source": [
        "Creem la CNF amb les clàusules HARD i SOFT."
      ],
      "metadata": {
        "id": "T9Kco08c6_5b"
      }
    },
    {
      "cell_type": "code",
      "source": [
        "wcnf = WCNF()\n",
        "wcnf.extend(exactly_one)  # 20 adding hard clauses\n",
        "wcnf.extend(hs)  # adding 138 hard similar clauses\n",
        "wcnf.extend(hd)  # adding 44 hard dissimilar clauses\n",
        "wcnf.extend(ss, weights=[1] * 23)  # adding 23 soft similarity clauses \n",
        "wcnf.extend(sd, weights=[1] * 22)  # adding 22 soft dissimilarity clauses\n",
        "print(len(wcnf.hard))\n",
        "print(len(wcnf.soft))\n",
        "print(wcnf.wght)"
      ],
      "metadata": {
        "colab": {
          "base_uri": "https://localhost:8080/"
        },
        "id": "SlvPtxKQT0mB",
        "outputId": "c3b43f84-96a8-46fe-9ed1-0304d77e0f33"
      },
      "execution_count": 98,
      "outputs": [
        {
          "output_type": "stream",
          "name": "stdout",
          "text": [
            "202\n",
            "45\n",
            "[1, 1, 1, 1, 1, 1, 1, 1, 1, 1, 1, 1, 1, 1, 1, 1, 1, 1, 1, 1, 1, 1, 1, 1, 1, 1, 1, 1, 1, 1, 1, 1, 1, 1, 1, 1, 1, 1, 1, 1, 1, 1, 1, 1, 1]\n"
          ]
        }
      ]
    },
    {
      "cell_type": "markdown",
      "source": [
        "Trobem una solució MaxSAT amb l'algorisme RC2"
      ],
      "metadata": {
        "id": "TEIKvxDC7Rvz"
      }
    },
    {
      "cell_type": "code",
      "source": [
        "rc2 = RC2(wcnf)\n",
        "model = rc2.compute()\n",
        "print(model)\n",
        "\n",
        "print(rc2.cost)#cost de 14"
      ],
      "metadata": {
        "colab": {
          "base_uri": "https://localhost:8080/"
        },
        "id": "RuRWTrr8US5u",
        "outputId": "694355a9-9286-4f5c-896c-a75fd91c751c"
      },
      "execution_count": 99,
      "outputs": [
        {
          "output_type": "stream",
          "name": "stdout",
          "text": [
            "[1, -2, -3, 4, -5, 6, -7, 8, 9, -10, -11, 12, 13, -14, -15, 16, 17, -18, -19, 20, -21, -22, -23, -24, -25, -26, -27, -28, -29, -30, -31, -32, -33, -34, -35, -36, -37, -38, -39, -40, -41, -42, -43, -44, -45, -46, -47, -48, -49, -50, -51, -52, -53, -54, -55, -56, -57, -58, -59, -60, -61, -62, -63, -64, -65, -66, -67, -68, -69, -70, -71, -72, -73, -74, -75, -76, -77, -78, -79, -80, -81, -82, -83, -84, -85, -86, -87, -88, -89, -90, -91, -92, -93, -94, -95, -96, -97, -98, -99, -100, -101, -102, -103, -104, -105, -106, -107, -108, -109, 110, -111, -112, -113, -114, -115, -116, -117, -118, -119, -120, 121, -122, -123, -124, 125, -126, -127, -128, 129, -130, -131, -132, 133, -134, 135, -136, -137, -138, 139, -140, -141, -142, -143, -144, -145, -146, 147, -148, -149, -150, 151, -152, -153, -154, 155, -156, -157, -158, -159, -160, -161, 162, -163, -164, -165, -166, -167, -168, -169, -170, -171, -172, 173, -174, -175, -176, 177, -178, -179, 180, -181, -182, -183, -184, -185, -186, 187, -188, -189, -190, -191, -192, -193, -194, -195, -196, -197, -198, -199, -200, -201, -202, 203, -204, -205, -206, 207, -208, 209, -210, -211, -212, -213, -214, -215, -216, -217, -218, -219, -220, 221, -222, -223, -224, -225, -226, -227, -228, 229, -230, -231, -232, 233, -234, -235, -236, -237, -238, -239, -240, -241, -242, -243, -244]\n",
            "14\n"
          ]
        }
      ]
    },
    {
      "cell_type": "markdown",
      "source": [
        "El clustering òptim és el format per:\n",
        "\n",
        "1.   [1,5,7,9]\n",
        "2.   [2,3,4,6,8,10]\n",
        "\n",
        "Amb un cost de 14 clàusules SOFT insatisfetes."
      ],
      "metadata": {
        "id": "J3EooOF5Z5Qg"
      }
    },
    {
      "cell_type": "markdown",
      "source": [
        "Calculem els literals auxiliars positius del model aijk i dij.\n",
        "\n",
        "Els literals positius entre 100 i 200 (aijk) són els rellevants per satisfer les clàusules SOFT SIMILARITY.\n",
        "\n",
        "El literals positius superiors a 200 (dij) porten a violar les clàusules SOFT DISSIMILARITY, al requerir aquestes el literal negat per ser satisfetes."
      ],
      "metadata": {
        "id": "OaW3e-uiaFWz"
      }
    },
    {
      "cell_type": "code",
      "source": [
        "lit=[]\n",
        "for num in model:\n",
        "    if (num > 0) & (num>20):\n",
        "        lit.append(num)\n",
        "print(len(lit))"
      ],
      "metadata": {
        "colab": {
          "base_uri": "https://localhost:8080/"
        },
        "id": "8mR7uowqNOF7",
        "outputId": "bf5218c9-ef83-4232-de45-61881e0808ac"
      },
      "execution_count": 101,
      "outputs": [
        {
          "output_type": "stream",
          "name": "stdout",
          "text": [
            "21\n"
          ]
        }
      ]
    },
    {
      "cell_type": "code",
      "source": [
        "lit"
      ],
      "metadata": {
        "colab": {
          "base_uri": "https://localhost:8080/"
        },
        "id": "nUJciIXOWu6a",
        "outputId": "ee1e2501-b5c3-414d-9203-6f591f6ff80d"
      },
      "execution_count": 102,
      "outputs": [
        {
          "output_type": "execute_result",
          "data": {
            "text/plain": [
              "[110,\n",
              " 121,\n",
              " 125,\n",
              " 129,\n",
              " 133,\n",
              " 135,\n",
              " 139,\n",
              " 147,\n",
              " 151,\n",
              " 155,\n",
              " 162,\n",
              " 173,\n",
              " 177,\n",
              " 180,\n",
              " 187,\n",
              " 203,\n",
              " 207,\n",
              " 209,\n",
              " 221,\n",
              " 229,\n",
              " 233]"
            ]
          },
          "metadata": {},
          "execution_count": 102
        }
      ]
    },
    {
      "cell_type": "code",
      "source": [
        "# Get the satisfied soft similarity clauses\n",
        "satisfied_ss=[clause for idx,clause in enumerate(wcnf.soft[:23]) if any(i in clause for i in lit)]"
      ],
      "metadata": {
        "id": "7F1DpM-dOIGY"
      },
      "execution_count": 103,
      "outputs": []
    },
    {
      "cell_type": "code",
      "source": [
        "# Get the insatisfied soft similarity clauses\n",
        "unsatisfied_ss = [sublist for sublist in wcnf.soft[:23] if sublist not in satisfied_ss]"
      ],
      "metadata": {
        "id": "WbwkGualUW9R"
      },
      "execution_count": 104,
      "outputs": []
    },
    {
      "cell_type": "code",
      "source": [
        "unsatisfied_ss"
      ],
      "metadata": {
        "colab": {
          "base_uri": "https://localhost:8080/"
        },
        "id": "N63IqK_lUewy",
        "outputId": "b2b81e16-7c90-4e74-d827-0b3cd04e1560"
      },
      "execution_count": 105,
      "outputs": [
        {
          "output_type": "execute_result",
          "data": {
            "text/plain": [
              "[[100, 101, -245],\n",
              " [108, 109, -246],\n",
              " [144, 145, -254],\n",
              " [152, 153, -257],\n",
              " [164, 165, -260],\n",
              " [168, 169, -261],\n",
              " [170, 171, -262],\n",
              " [174, 175, -264]]"
            ]
          },
          "metadata": {},
          "execution_count": 105
        }
      ]
    },
    {
      "cell_type": "markdown",
      "source": [
        "Com hem vist abans el clustering òptim és el format per:\n",
        "\n",
        "1.   [1,5,7,9]\n",
        "2.   [2,3,4,6,8,10]\n",
        "\n",
        "Clàusules de soft dissimilarity NO complertes:\n",
        "\n",
        "1.   [-203] = 1 i 5 van junts i haurien danar separats\n",
        "2.   [-207] = 1 i 9 van junts i haurien danar separats\n",
        "3.   [-209] = 2 i 3 van junts i haurien danar separats\n",
        "4.   [-221] = 3 i 8 van junts i haurien danar separats\n",
        "5.   [-229] = 4 i 10 van junts i haurien danar separats\n",
        "6.   [-233] = 5 i 9 van junts i haurien danar separats\n",
        "\n",
        "Clàusules de soft similarity NO complertes:\n",
        "\n",
        "1.   [100, 101] = 1 i 2 van separats i haurien d'anar junts\n",
        "2.   [108, 109] = 1 i 6 van separats i haurien d'anar junts\n",
        "3.   [144, 145] = 3 i 9 van separats i haurien d'anar junts\n",
        "4.   [152, 153] = 4 i 7 van separats i haurien d'anar junts\n",
        "5.   [164, 165] = 5 i 8 van separats i haurien d'anar junts\n",
        "6.   [168, 169] = 5 i 10 van separats i haurien d'anar junts\n",
        "7.   [170, 171] = 6 i 7 van separats i haurien d'anar junts\n",
        "8.   [174, 175] = 6 i 9 van separats i haurien d'anar junts"
      ],
      "metadata": {
        "id": "yDZBeWSwYadF"
      }
    },
    {
      "cell_type": "markdown",
      "source": [
        "Com podem veure, tots els resultats concorden. Així doncs el clustering òptim te un cost de 14."
      ],
      "metadata": {
        "id": "P2fNLhikc60S"
      }
    },
    {
      "cell_type": "markdown",
      "source": [
        "![MaxSAT_matrix.jpg](data:image/jpeg;base64,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)"
      ],
      "metadata": {
        "id": "EyaocYgv_pAG"
      }
    }
  ]
}